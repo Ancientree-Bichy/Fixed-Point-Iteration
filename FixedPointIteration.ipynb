{
 "cells": [
  {
   "cell_type": "code",
   "execution_count": 69,
   "metadata": {},
   "outputs": [],
   "source": [
    "import numpy as np\n",
    "import cv2\n",
    "import matplotlib.pyplot as plt\n",
    "\n",
    "from ipywidgets import interact, interactive, fixed, interact_manual, IntSlider\n"
   ]
  },
  {
   "cell_type": "code",
   "execution_count": 70,
   "metadata": {},
   "outputs": [],
   "source": [
    "def visualize_fixed_point(g, guess, epsilon, max_iter=10, h=lambda x: x, h_inv=lambda x: x, h_label='y=x'):\n",
    "    # Collect iteration values for plotting (including the initial guess)\n",
    "    points = [guess]\n",
    "    x_current = guess\n",
    "    for i in range(max_iter):\n",
    "        # key iteration step\n",
    "        x_next = h_inv(g(x_current))\n",
    "        points.append(x_next)\n",
    "        if abs(x_next - x_current) < epsilon:\n",
    "            break\n",
    "        x_current = x_next\n",
    "\n",
    "    # Define the plotting range with some margin\n",
    "    margin = 0.1 * (max(points) - min(points)) if max(points) != min(points) else 1\n",
    "    x_min = min(points) - margin\n",
    "    x_max = max(points) + margin\n",
    "    xs = np.linspace(x_min, x_max, 400)\n",
    "\n",
    "    # Plot the function and the line y = x for reference\n",
    "    plt.figure(figsize=(8, 6))\n",
    "    plt.plot(xs, [g(x) for x in xs], 'b-', label='g(x)', lw=2)\n",
    "    plt.plot(xs, [h(x) for x in xs], 'k--', label=h_label, lw=2)\n",
    "\n",
    "    # Generate the cobweb plot by drawing vertical and horizontal steps\n",
    "    for i in range(len(points) - 1):\n",
    "        # Vertical line\n",
    "        plt.plot([points[i], points[i]], [g(points[i]), h(points[i])], 'r-', lw=1, alpha=0.5)\n",
    "        # Horizontal line\n",
    "        plt.plot([points[i], points[i+1]], [g(points[i]), h(points[i+1])], 'r-', lw=1, alpha=0.5)\n",
    "\n",
    "    h_points = [h(x) for x in points]\n",
    "    plt.plot(points, h_points, 'ro', label='Iterations', alpha=0.5)\n",
    "    \n",
    "    # Label each iteration point on the x-axis as x_1, x_2, ...\n",
    "    plt.xticks(points, [f\"$x_{i-1}$\" for i in range(1, len(points)+1)], fontsize=14)\n",
    "    for tick in plt.gca().get_xticklines():\n",
    "        tick.set_linestyle(':')\n",
    "    \n",
    "    plt.title(\"Fixed Point Iteration Visualization\")\n",
    "    plt.xlabel(\"x\")\n",
    "    plt.ylabel(\"y\")\n",
    "    plt.axis('equal')\n",
    "    plt.grid()\n",
    "    plt.legend()\n",
    "    plt.show()\n"
   ]
  },
  {
   "cell_type": "code",
   "execution_count": 71,
   "id": "6cfad6ac",
   "metadata": {},
   "outputs": [],
   "source": [
    "# Initialize the guess\n",
    "initial_guess = 0.5\n",
    "epsilon = 1e-5"
   ]
  },
  {
   "cell_type": "code",
   "execution_count": 72,
   "metadata": {},
   "outputs": [
    {
     "data": {
      "application/vnd.jupyter.widget-view+json": {
       "model_id": "bf70eb36a9a84a82ac3342d4fc4016d6",
       "version_major": 2,
       "version_minor": 0
      },
      "text/plain": [
       "interactive(children=(IntSlider(value=1, description='iter', max=10, min=1), Output()), _dom_classes=('widget-…"
      ]
     },
     "metadata": {},
     "output_type": "display_data"
    }
   ],
   "source": [
    "def g(x):\n",
    "    return np.cos(x)\n",
    "\n",
    "\n",
    "interactive_plot = interact(lambda iter: visualize_fixed_point(g, initial_guess, epsilon, iter),\n",
    "                            iter=IntSlider(min=1, max=10, step=1))"
   ]
  },
  {
   "cell_type": "code",
   "execution_count": 73,
   "id": "b20badaa",
   "metadata": {},
   "outputs": [
    {
     "data": {
      "application/vnd.jupyter.widget-view+json": {
       "model_id": "8e7986f61b594fe0a43092ef2fee9a9f",
       "version_major": 2,
       "version_minor": 0
      },
      "text/plain": [
       "interactive(children=(IntSlider(value=1, description='iter', max=10, min=1), Output()), _dom_classes=('widget-…"
      ]
     },
     "metadata": {},
     "output_type": "display_data"
    }
   ],
   "source": [
    "def g(x):\n",
    "    return x ** 2\n",
    "\n",
    "initial_guess = 1.01\n",
    "interactive_plot = interact(lambda iter: visualize_fixed_point(g, initial_guess, epsilon, iter),\n",
    "                            iter=IntSlider(min=1, max=10, step=1))"
   ]
  },
  {
   "cell_type": "code",
   "execution_count": 74,
   "id": "5128e162",
   "metadata": {},
   "outputs": [
    {
     "data": {
      "application/vnd.jupyter.widget-view+json": {
       "model_id": "faef22a368344382b08766cc9c0d57d7",
       "version_major": 2,
       "version_minor": 0
      },
      "text/plain": [
       "interactive(children=(IntSlider(value=1, description='iter', max=10, min=1), Output()), _dom_classes=('widget-…"
      ]
     },
     "metadata": {},
     "output_type": "display_data"
    }
   ],
   "source": [
    "def g(x):\n",
    "    return x ** 2\n",
    "\n",
    "initial_guess = 0.9\n",
    "interactive_plot = interact(lambda iter: visualize_fixed_point(g, initial_guess, epsilon, iter),\n",
    "                            iter=IntSlider(min=1, max=10, step=1))"
   ]
  },
  {
   "cell_type": "code",
   "execution_count": 75,
   "id": "3b9cae94",
   "metadata": {},
   "outputs": [
    {
     "data": {
      "application/vnd.jupyter.widget-view+json": {
       "model_id": "01af28c293ca48c68be811a04b5a7218",
       "version_major": 2,
       "version_minor": 0
      },
      "text/plain": [
       "interactive(children=(IntSlider(value=1, description='iter', max=10, min=1), Output()), _dom_classes=('widget-…"
      ]
     },
     "metadata": {},
     "output_type": "display_data"
    }
   ],
   "source": [
    "def g(x):\n",
    "    return -x ** 2 + 2\n",
    "\n",
    "initial_guess = 1.01\n",
    "interactive_plot = interact(lambda iter: visualize_fixed_point(g, initial_guess, epsilon, iter),\n",
    "                            iter=IntSlider(min=1, max=10, step=1))"
   ]
  },
  {
   "cell_type": "code",
   "execution_count": 76,
   "id": "5eeea347",
   "metadata": {},
   "outputs": [
    {
     "data": {
      "application/vnd.jupyter.widget-view+json": {
       "model_id": "11aa78579b5a4cfd8c5dc6f296975429",
       "version_major": 2,
       "version_minor": 0
      },
      "text/plain": [
       "interactive(children=(IntSlider(value=1, description='iter', max=10, min=1), Output()), _dom_classes=('widget-…"
      ]
     },
     "metadata": {},
     "output_type": "display_data"
    }
   ],
   "source": [
    "def g(x):\n",
    "    return -0.5 * x ** 2 + 2\n",
    "\n",
    "def h(x):\n",
    "    return x ** 2\n",
    "\n",
    "def h_inv(x):\n",
    "    return x ** (1/2)\n",
    "\n",
    "initial_guess = 0.8\n",
    "interactive_plot = interact(lambda iter: visualize_fixed_point(g, initial_guess, epsilon, iter, h, h_inv, \"h(x)\"),\n",
    "                            iter=IntSlider(min=1, max=10, step=1))"
   ]
  },
  {
   "cell_type": "code",
   "execution_count": null,
   "id": "e9f9d268",
   "metadata": {},
   "outputs": [],
   "source": []
  }
 ],
 "metadata": {
  "kernelspec": {
   "display_name": "jupyter_env",
   "language": "python",
   "name": "python3"
  },
  "language_info": {
   "codemirror_mode": {
    "name": "ipython",
    "version": 3
   },
   "file_extension": ".py",
   "mimetype": "text/x-python",
   "name": "python",
   "nbconvert_exporter": "python",
   "pygments_lexer": "ipython3",
   "version": "3.8.10"
  }
 },
 "nbformat": 4,
 "nbformat_minor": 5
}
